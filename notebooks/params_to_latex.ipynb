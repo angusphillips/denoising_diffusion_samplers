{
 "cells": [
  {
   "cell_type": "code",
   "execution_count": 4,
   "metadata": {},
   "outputs": [],
   "source": [
    "from dds.configs.param_settings import param_settings\n",
    "import pandas as pd\n",
    "import numpy as np"
   ]
  },
  {
   "cell_type": "code",
   "execution_count": 27,
   "metadata": {},
   "outputs": [],
   "source": [
    "tasks = ['difficult_gaussian', 'difficult_2d', 'brownian', 'funnel', 'ion', 'sonar', 'lgcp']\n",
    "nice_names = ['Gaussian', 'Mixture', 'Brownian', 'Funnel', 'Ion', 'Sonar', 'LGCP']\n",
    "steps_mult = [1,2,4,8,16]\n",
    "\n",
    "sigma = np.zeros((len(steps_mult)+1, len(tasks)))\n",
    "alpha = np.zeros_like(sigma)\n",
    "\n",
    "sigma[0,:] = [1,1,1,2,2,2,8]\n",
    "alpha[0,:] = [1,1,1,2,2,2,8]\n",
    "\n",
    "for j, t in enumerate(tasks):\n",
    "    for i, s in enumerate(steps_mult):\n",
    "        try:\n",
    "            sigma[i+1, j] = param_settings[t]['pis']['sigma'][s]\n",
    "        except:\n",
    "            sigma[i+1, j] = '-1.0'\n",
    "        alpha[i+1, j] = param_settings[t]['dds']['alpha'][s]"
   ]
  },
  {
   "cell_type": "code",
   "execution_count": 28,
   "metadata": {},
   "outputs": [],
   "source": [
    "sigma_df = pd.DataFrame(sigma, columns=nice_names, index=['Base step'] + steps_mult)\n",
    "alpha_df = pd.DataFrame(alpha, columns=nice_names, index=['Base step'] + steps_mult)"
   ]
  },
  {
   "cell_type": "code",
   "execution_count": 24,
   "metadata": {},
   "outputs": [
    {
     "data": {
      "text/plain": [
       "'\\\\begin{tabular}{lrrrrrrr}\\n\\\\toprule\\n & Gaussian & Mixture & Brownian & Funnel & Ion & Sonar & LGCP \\\\\\\\\\n\\\\midrule\\nBase step & 1.000000 & 1.000000 & 1.000000 & 2.000000 & 2.000000 & 2.000000 & 8.000000 \\\\\\\\\\n1 & -1.000000 & -1.000000 & -1.000000 & 1.500000 & 0.370000 & 0.250000 & 1.360000 \\\\\\\\\\n2 & 1.000000 & 2.400000 & 0.080000 & 1.000000 & 0.400000 & 0.310000 & 1.640000 \\\\\\\\\\n4 & 1.000000 & 2.200000 & 0.100000 & 1.000000 & 0.400000 & 0.400000 & 1.780000 \\\\\\\\\\n8 & 1.000000 & 1.920000 & 0.100000 & 1.000000 & 0.460000 & 0.460000 & 1.990000 \\\\\\\\\\n16 & 1.000000 & 1.880000 & 0.130000 & 1.000000 & 0.460000 & 0.490000 & 2.060000 \\\\\\\\\\n\\\\bottomrule\\n\\\\end{tabular}\\n'"
      ]
     },
     "execution_count": 24,
     "metadata": {},
     "output_type": "execute_result"
    }
   ],
   "source": [
    "sigma_df.to_latex(float_format=\"%.2f\")"
   ]
  },
  {
   "cell_type": "code",
   "execution_count": 29,
   "metadata": {},
   "outputs": [
    {
     "data": {
      "text/plain": [
       "'\\\\begin{tabular}{lrrrrrrr}\\n\\\\toprule\\n & Gaussian & Mixture & Brownian & Funnel & Ion & Sonar & LGCP \\\\\\\\\\n\\\\midrule\\nBase step & 1.00 & 1.00 & 1.00 & 2.00 & 2.00 & 2.00 & 8.00 \\\\\\\\\\n1 & 0.86 & 0.28 & 0.76 & 0.60 & 0.68 & 0.68 & 0.74 \\\\\\\\\\n2 & 0.86 & 0.28 & 0.76 & 0.68 & 0.80 & 0.82 & 0.62 \\\\\\\\\\n4 & 1.00 & 0.36 & 0.84 & 0.68 & 0.74 & 0.78 & 0.60 \\\\\\\\\\n8 & 0.96 & 0.52 & 0.80 & 0.60 & 0.64 & 0.64 & 0.44 \\\\\\\\\\n16 & 0.82 & 0.54 & 0.72 & 0.64 & 0.52 & 0.50 & 0.26 \\\\\\\\\\n\\\\bottomrule\\n\\\\end{tabular}\\n'"
      ]
     },
     "execution_count": 29,
     "metadata": {},
     "output_type": "execute_result"
    }
   ],
   "source": [
    "alpha_df.to_latex(float_format=\"%.2f\")"
   ]
  },
  {
   "cell_type": "code",
   "execution_count": null,
   "metadata": {},
   "outputs": [],
   "source": []
  }
 ],
 "metadata": {
  "kernelspec": {
   "display_name": "dds3",
   "language": "python",
   "name": "python3"
  },
  "language_info": {
   "codemirror_mode": {
    "name": "ipython",
    "version": 3
   },
   "file_extension": ".py",
   "mimetype": "text/x-python",
   "name": "python",
   "nbconvert_exporter": "python",
   "pygments_lexer": "ipython3",
   "version": "3.9.16"
  },
  "orig_nbformat": 4,
  "vscode": {
   "interpreter": {
    "hash": "bb2e0d3fc4781db469e2ece39e8d2d44ac77f70c9cb4d36d32446d1a5e461260"
   }
  }
 },
 "nbformat": 4,
 "nbformat_minor": 2
}
